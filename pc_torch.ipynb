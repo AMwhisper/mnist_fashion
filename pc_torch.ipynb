{
 "cells": [
  {
   "cell_type": "code",
   "execution_count": 1,
   "metadata": {},
   "outputs": [],
   "source": [
    "import torch\n",
    "import pandas as pd\n",
    "import numpy as np\n",
    "import matplotlib.pyplot as plt\n",
    "import random\n"
   ]
  },
  {
   "cell_type": "code",
   "execution_count": 3,
   "metadata": {},
   "outputs": [],
   "source": [
    "# 设置标签\n",
    "classes = [\"T-shirt/top\", \"Trouser\", \"Pullover\", \"Dress\", \"Coat\", \n",
    "           \"Sandal\", \"Shirt\", \"Sneaker\", \"Bag\", \"Ankle boot\"]\n",
    "\n",
    "# 选择推理设备额\n",
    "device = torch.device(\"cpu\")\n",
    "\n",
    "# 读取模型并且设置为评估模式\n",
    "model = torch.load('./model/mnist_fashion.pth', map_location = device, weights_only = False)\n",
    "model.to(device)\n",
    "model.eval()\n",
    "\n",
    "# 读取测试集\n",
    "test_df = pd.read_csv('./input/fashion-mnist_test.csv')"
   ]
  },
  {
   "cell_type": "code",
   "execution_count": 4,
   "metadata": {},
   "outputs": [
    {
     "name": "stderr",
     "output_type": "stream",
     "text": [
      "/tmp/ipykernel_87108/4283823507.py:4: FutureWarning: Series.__getitem__ treating keys as positions is deprecated. In a future version, integer keys will always be treated as labels (consistent with DataFrame behavior). To access a value by position, use `ser.iloc[pos]`\n",
      "  label = int(row[0])\n"
     ]
    },
    {
     "data": {
      "image/png": "[encoded data removed]",
      "text/plain": [
       "<Figure size 640x480 with 1 Axes>"
      ]
     },
     "metadata": {},
     "output_type": "display_data"
    },
    {
     "name": "stdout",
     "output_type": "stream",
     "text": [
      "Predicted Label: 4, Predicted Class: Coat)\n"
     ]
    }
   ],
   "source": [
    "\n",
    "# 随机选取一张图片用于识别\n",
    "index = random.randint(0, len(test_df) - 1)\n",
    "row = test_df.iloc[index]\n",
    "label = int(row[0]) \n",
    "image = row[1:].values.astype(np.uint8).reshape(28, 28)\n",
    "\n",
    "# 显示选取的图片\n",
    "plt.imshow(image, cmap='gray')\n",
    "plt.title(f\"True Label: {label}, True Class: {classes[label]}\")\n",
    "plt.axis('off')\n",
    "plt.show()\n",
    "\n",
    "# 归一化图片\n",
    "image = image.astype(np.float32) / 255.0  \n",
    "image_tensor = torch.tensor(image, dtype=torch.float32).unsqueeze(0).unsqueeze(0)\n",
    "image_tensor = image_tensor.to(device)\n",
    "\n",
    "# 进行推理并输出结果\n",
    "with torch.no_grad():\n",
    "    output = model(image_tensor)\n",
    "    _, predicted = torch.max(output, 1)\n",
    "\n",
    "print(f\"Predicted Label: {predicted.item()}, Predicted Class: {classes[predicted.item()]})\")"
   ]
  },
  {
   "cell_type": "code",
   "execution_count": null,
   "metadata": {},
   "outputs": [],
   "source": []
  },
  {
   "cell_type": "code",
   "execution_count": null,
   "metadata": {},
   "outputs": [],
   "source": []
  }
 ],
 "metadata": {
  "kernelspec": {
   "display_name": "py3.10",
   "language": "python",
   "name": "python3"
  },
  "language_info": {
   "codemirror_mode": {
    "name": "ipython",
    "version": 3
   },
   "file_extension": ".py",
   "mimetype": "text/x-python",
   "name": "python",
   "nbconvert_exporter": "python",
   "pygments_lexer": "ipython3",
   "version": "3.10.16"
  }
 },
 "nbformat": 4,
 "nbformat_minor": 2
}
