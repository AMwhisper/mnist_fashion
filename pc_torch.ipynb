{
 "cells": [
  {
   "cell_type": "code",
   "execution_count": 5,
   "metadata": {},
   "outputs": [
    {
     "name": "stderr",
     "output_type": "stream",
     "text": [
      "/tmp/ipykernel_50472/4159060939.py:21: FutureWarning: Series.__getitem__ treating keys as positions is deprecated. In a future version, integer keys will always be treated as labels (consistent with DataFrame behavior). To access a value by position, use `ser.iloc[pos]`\n",
      "  label = int(row[0])\n"
     ]
    },
    {
     "data": {
      "image/png": "[encoded data removed]",
      "text/plain": [
       "<Figure size 640x480 with 1 Axes>"
      ]
     },
     "metadata": {},
     "output_type": "display_data"
    },
    {
     "name": "stdout",
     "output_type": "stream",
     "text": [
      "Predicted Label: 4 (Coat)\n"
     ]
    }
   ],
   "source": [
    "import torch\n",
    "import pandas as pd\n",
    "import numpy as np\n",
    "import matplotlib.pyplot as plt\n",
    "import random\n",
    "\n",
    "\n",
    "classes = [\"T-shirt/top\", \"Trouser\", \"Pullover\", \"Dress\", \"Coat\", \n",
    "           \"Sandal\", \"Shirt\", \"Sneaker\", \"Bag\", \"Ankle boot\"]\n",
    "\n",
    "device = torch.device(\"cpu\")\n",
    "\n",
    "model = torch.load('./output/mnist_fashion.pth', map_location=device, weights_only = False)\n",
    "model.to(device)\n",
    "model.eval()\n",
    "\n",
    "test_df = pd.read_csv('./input/fashion-mnist_test.csv')\n",
    "\n",
    "index = random.randint(0, len(test_df) - 1)\n",
    "row = test_df.iloc[index]\n",
    "label = int(row[0]) \n",
    "image = row[1:].values.astype(np.uint8).reshape(28, 28)\n",
    "\n",
    "plt.imshow(image, cmap='gray')\n",
    "plt.title(f\"True Label: {label}, True Class{classes[label]}\")\n",
    "plt.axis('off')\n",
    "plt.show()\n",
    "\n",
    "image = image.astype(np.float32) / 255.0  \n",
    "image_tensor = torch.tensor(image).unsqueeze(0).unsqueeze(0) \n",
    "image_tensor = image_tensor.to(device)\n",
    "\n",
    "with torch.no_grad():\n",
    "    output = model(image_tensor)\n",
    "    _, predicted = torch.max(output, 1)\n",
    "\n",
    "print(f\"Predicted Label: {predicted.item()}, Predicted Class{classes[predicted.item()]})\")\n"
   ]
  },
  {
   "cell_type": "code",
   "execution_count": null,
   "metadata": {},
   "outputs": [],
   "source": []
  },
  {
   "cell_type": "code",
   "execution_count": null,
   "metadata": {},
   "outputs": [],
   "source": []
  }
 ],
 "metadata": {
  "kernelspec": {
   "display_name": "py3.10",
   "language": "python",
   "name": "python3"
  },
  "language_info": {
   "codemirror_mode": {
    "name": "ipython",
    "version": 3
   },
   "file_extension": ".py",
   "mimetype": "text/x-python",
   "name": "python",
   "nbconvert_exporter": "python",
   "pygments_lexer": "ipython3",
   "version": "3.10.16"
  }
 },
 "nbformat": 4,
 "nbformat_minor": 2
}
